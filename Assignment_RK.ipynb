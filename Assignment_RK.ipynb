{
 "cells": [
  {
   "cell_type": "markdown",
   "metadata": {},
   "source": [
    "## 1 ##"
   ]
  },
  {
   "cell_type": "code",
   "execution_count": 9,
   "metadata": {},
   "outputs": [],
   "source": [
    "# Importing all the necessary\n",
    "from Bio import SeqIO\n",
    "from Bio.Data import CodonTable\n",
    "from Bio.SeqUtils.ProtParam import ProteinAnalysis\n",
    "from Bio.SeqUtils import GC\n",
    "import pandas as pd\n",
    "import matplotlib.pyplot as plt"
   ]
  },
  {
   "cell_type": "code",
   "execution_count": null,
   "metadata": {},
   "outputs": [],
   "source": [
    "# Listing Dr.X function to get sequences\n",
    "def get_sequences_from_file(fasta_fn):\n",
    "    # Creating an empty dictionary\n",
    "    sequence_data_dict = {}\n",
    "    # Looping through record (sequence) using the Biopython parser for fasta input sequence \n",
    "    for record in SeqIO.parse(fasta_fn, \"fasta\"):\n",
    "        # Splitting the description with no delimiter \n",
    "        description = record.description.split()\n",
    "        # Adding space in between the split and storing it in species_name \n",
    "        species_name = description[1] + \" \" + description[2]\n",
    "        # Storing species name as key and record.seq as value in dictinary (sequence_data_dict)\n",
    "        sequence_data_dict[species_name] = record.seq\n",
    "    return(sequence_data_dict)"
   ]
  },
  {
   "cell_type": "markdown",
   "metadata": {},
   "source": [
    "## 2 ##"
   ]
  },
  {
   "cell_type": "code",
   "execution_count": 4,
   "metadata": {},
   "outputs": [],
   "source": [
    "# Listing function that translates a string of nucleotides to amino acids based on Dr. X's pseudo-code suggestion\n",
    "def translate_function(string_nucleotides):\n",
    "    # Defining empty string variables\n",
    "    seek = \"\"\n",
    "    aa_seq_string = \"\"\n",
    "    # Getting codon table using CondonTable function from Biopython library\n",
    "    mito_table = CodonTable.unambiguous_dna_by_name[\"Vertebrate Mitochondrial\"]\n",
    "    # Looping through string every third charcter in string_nucleotides \n",
    "    for x in range(len(string_nucleotides)):\n",
    "        seek += str(string_nucleotides[x])\n",
    "        if (x+1) % 3 == 0:\n",
    "            # Check if every third charcter is a stop codon\n",
    "            if seek in mito_table.stop_codons:\n",
    "                break\n",
    "            # If not stop codon then translate the nucleotide to amino acids    \n",
    "            aa_seq_string += mito_table.forward_table[seek]\n",
    "            seek = \"\"\n",
    "    return(aa_seq_string)"
   ]
  },
  {
   "cell_type": "markdown",
   "metadata": {},
   "source": [
    "## 3 ##"
   ]
  },
  {
   "cell_type": "code",
   "execution_count": 5,
   "metadata": {},
   "outputs": [],
   "source": [
    "# Alternative function that translates nucleotids to amino acids\n",
    "def DNA_translate_biopython(Input_seq):\n",
    "    # Using Input\n",
    "    output_seq = Input_seq.translate()\n",
    "    return output_seq"
   ]
  },
  {
   "cell_type": "markdown",
   "metadata": {},
   "source": [
    "## 4 ##"
   ]
  },
  {
   "cell_type": "code",
   "execution_count": 6,
   "metadata": {},
   "outputs": [],
   "source": [
    "# Function that calculates the molecular weight of each amino acid sequence\n",
    "def Mol_wt_aa(aa_seq):\n",
    "    # Defining an empty list\n",
    "    analyzed_seq = []\n",
    "    # Looping through amino acid sequence\n",
    "    for list_item in aa_seq:\n",
    "        # Using Protein Analysis and molecular weight function from ProtParam library from biopython\n",
    "        analyzed_seq.append(ProteinAnalysis(list_item).molecular_weight())\n",
    "    return analyzed_seq"
   ]
  },
  {
   "cell_type": "markdown",
   "metadata": {},
   "source": [
    "## 5 ##"
   ]
  },
  {
   "cell_type": "code",
   "execution_count": 7,
   "metadata": {},
   "outputs": [],
   "source": [
    "# Function to analyze GC content\n",
    "def GC_content(Input_seq):\n",
    "    # Using Bio.SeqUtils library from biopython\n",
    "    output_seq = GC(Input_seq)\n",
    "    return output_seq"
   ]
  },
  {
   "cell_type": "markdown",
   "metadata": {},
   "source": [
    "#%%%%%%%%%%%%%%#\n",
    "###   MAIN   ###\n",
    "#%%%%%%%%%%%%%%#"
   ]
  },
  {
   "cell_type": "code",
   "execution_count": 10,
   "metadata": {},
   "outputs": [],
   "source": [
    "# Parsing fasta sequence\n",
    "cytb_seqs = get_sequences_from_file(\"penguins_cytb.fasta\") \n",
    "# Reading csv file as dataframe using pandas\n",
    "penguins_df = pd.read_csv(\"penguins_mass.csv\") # Includes only data for body mass \n",
    "# Storing species column as a list\n",
    "species_list = list(penguins_df.species)"
   ]
  },
  {
   "cell_type": "markdown",
   "metadata": {},
   "source": [
    "## 6 ##"
   ]
  },
  {
   "cell_type": "code",
   "execution_count": 11,
   "metadata": {},
   "outputs": [],
   "source": [
    "# Creating new columns molecular_weight and GC_content in the datafarme and setting the values of those colmumns to 'NaN'\n",
    "penguins_df['molecular_weight'] = 'NaN'\n",
    "penguins_df['GC_content'] = 'NaN'"
   ]
  },
  {
   "cell_type": "markdown",
   "metadata": {},
   "source": [
    "## 7 ##"
   ]
  },
  {
   "cell_type": "code",
   "execution_count": 12,
   "metadata": {},
   "outputs": [],
   "source": [
    "# Defining empty lists\n",
    "aa_seq = []\n",
    "GC_list = []\n",
    "# Looping over each sequence to get the translated sequence and to get molecular weight and GC content of amino acids\n",
    "for key, value in cytb_seqs.items():\n",
    "    # Using functions to append to empty lists\n",
    "    aa_seq.append(translate_function(value))\n",
    "    GC_list.append(GC_content(value))\n",
    "# Appendng values of Molecular weight and GC content of amino acids to respective columns of the dataframe\n",
    "penguins_df['molecular_weight'] = Mol_wt_aa(aa_seq)\n",
    "penguins_df['GC_content'] = GC_list"
   ]
  },
  {
   "cell_type": "markdown",
   "metadata": {},
   "source": [
    "## 8 ##"
   ]
  },
  {
   "cell_type": "code",
   "execution_count": 13,
   "metadata": {},
   "outputs": [
    {
     "data": {
      "image/png": "[encoded data removed]",
      "text/plain": [
       "<Figure size 432x288 with 1 Axes>"
      ]
     },
     "metadata": {
      "needs_background": "light"
     },
     "output_type": "display_data"
    }
   ],
   "source": [
    "# Plotting a bar-chart of the mass with the x-axes labeled with species names\n",
    "penguins_df.plot(kind='bar', x='species', y='mass')\n",
    "plt.show()"
   ]
  },
  {
   "cell_type": "markdown",
   "metadata": {},
   "source": [
    "## *Q1* What is the smallest penguin species? \n",
    "### Eudyptula minor\n",
    "## *Q2* What else is interesting about this species?\n",
    "### Average lifespan of this species is 6.5 years"
   ]
  },
  {
   "cell_type": "markdown",
   "metadata": {},
   "source": [
    "## 9 ##"
   ]
  },
  {
   "cell_type": "code",
   "execution_count": 14,
   "metadata": {},
   "outputs": [
    {
     "data": {
      "image/png": "[encoded data removed]",
      "text/plain": [
       "<Figure size 432x288 with 1 Axes>"
      ]
     },
     "metadata": {
      "needs_background": "light"
     },
     "output_type": "display_data"
    }
   ],
   "source": [
    "# Plotting a visualization of the molecular weight (y-axis) as a function of GC-content (x-axis).\n",
    "penguins_df.plot(kind='scatter', x='molecular_weight', y='GC_content', linestyle='-', color='red')\n",
    "plt.show()"
   ]
  },
  {
   "cell_type": "markdown",
   "metadata": {},
   "source": [
    "## 10 ##"
   ]
  },
  {
   "cell_type": "code",
   "execution_count": 21,
   "metadata": {},
   "outputs": [],
   "source": [
    "# Saving the new DataFrame to a file called \"penguins_mass_cytb.csv\"\n",
    "penguins_df.to_csv('penguins_mass_cytb.csv')"
   ]
  }
 ],
 "metadata": {
  "kernelspec": {
   "display_name": "Python 3",
   "language": "python",
   "name": "python3"
  },
  "language_info": {
   "codemirror_mode": {
    "name": "ipython",
    "version": 3
   },
   "file_extension": ".py",
   "mimetype": "text/x-python",
   "name": "python",
   "nbconvert_exporter": "python",
   "pygments_lexer": "ipython3",
   "version": "3.6.7"
  }
 },
 "nbformat": 4,
 "nbformat_minor": 1
}
